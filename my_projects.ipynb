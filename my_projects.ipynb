{
  "cells": [
    {
      "cell_type": "markdown",
      "metadata": {
        "id": "view-in-github",
        "colab_type": "text"
      },
      "source": [
        "<a href=\"https://colab.research.google.com/github/Muchez190/College_math.py/blob/main/my_projects.ipynb\" target=\"_parent\"><img src=\"https://colab.research.google.com/assets/colab-badge.svg\" alt=\"Open In Colab\"/></a>"
      ]
    },
    {
      "cell_type": "markdown",
      "metadata": {
        "id": "AkH_-lb2JZE6"
      },
      "source": [
        "#Setting up a proportion:<br>\n",
        "$\\frac{n1}{n2}=\\frac{x1}{x2}$\n"
      ]
    },
    {
      "cell_type": "markdown",
      "metadata": {
        "id": "hWpz9FKS93dh"
      },
      "source": []
    },
    {
      "cell_type": "code",
      "execution_count": null,
      "metadata": {
        "colab": {
          "base_uri": "https://localhost:8080/"
        },
        "id": "ED9RmDNMuaVW",
        "outputId": "215d3c05-fb68-4f1b-adff-1dc2269b9c88"
      },
      "outputs": [
        {
          "name": "stdout",
          "output_type": "stream",
          "text": [
            "x2 is  10.0\n"
          ]
        }
      ],
      "source": [
        "n1=12\n",
        "n2=5\n",
        "x1=24\n",
        "x2=0\n",
        "if x1==0:\n",
        "  ans=x2*n1/n2\n",
        "  print('x1 is ', ans)\n",
        "if n2==0:\n",
        "  ans=n1*x2/x1\n",
        "  print('n2 is ', ans)\n",
        "if x2==0:\n",
        "  ans=x1*n2/n1\n",
        "  print('x2 is ',ans)\n",
        "if n1==0:\n",
        "  ans=n2*x1/x2\n",
        "  print('n1 is ', ans)"
      ]
    },
    {
      "cell_type": "markdown",
      "metadata": {
        "id": "jRo6ocgE7Zfx"
      },
      "source": [
        "#equations\n"
      ]
    },
    {
      "cell_type": "markdown",
      "metadata": {
        "id": "NlgilT4v99jO"
      },
      "source": []
    },
    {
      "cell_type": "code",
      "execution_count": null,
      "metadata": {
        "colab": {
          "base_uri": "https://localhost:8080/"
        },
        "id": "6_2w55k610YD",
        "outputId": "a7e78ef6-e260-45d3-8476-1af5d0e55739"
      },
      "outputs": [
        {
          "name": "stdout",
          "output_type": "stream",
          "text": [
            "Enter your equation 0= (x-3)*(x+2)*(x-4)\n",
            "x is  -2\n",
            "x is  3\n",
            "x is  4\n"
          ]
        }
      ],
      "source": [
        "import sympy\n",
        "from sympy import symbols\n",
        "from sympy.solvers import solve\n",
        "\n",
        "x=symbols('x')\n",
        "#ans=input('Enter your equation 0= ')\n",
        "ans =4*x**2+2*x-10\n",
        "#solve(ans,x)\n",
        "sol=solve(ans,x)\n",
        "for s in sol:\n",
        "  print('x is ',s)"
      ]
    },
    {
      "cell_type": "markdown",
      "metadata": {
        "id": "V86ejOB-8yti"
      },
      "source": [
        "#input equations\n"
      ]
    },
    {
      "cell_type": "code",
      "execution_count": null,
      "metadata": {
        "colab": {
          "base_uri": "https://localhost:8080/"
        },
        "id": "9xkXLlJyr5vW",
        "outputId": "df35fcc5-955f-4d97-b373-264d106bf331"
      },
      "outputs": [
        {
          "name": "stdout",
          "output_type": "stream",
          "text": [
            "Enter an equation 0= 5*x+3\n",
            "x is  -3/5\n"
          ]
        }
      ],
      "source": [
        "from sympy import *\n",
        "var('x')\n",
        "eq=input('Enter an equation 0= ')\n",
        "#ans=Eq(eq)\n",
        "ans=solve(eq,x)\n",
        "for s in ans:\n",
        "  print('x is ',s)\n"
      ]
    },
    {
      "cell_type": "markdown",
      "metadata": {
        "id": "jigKh9HN854o"
      },
      "source": [
        "#simplifying"
      ]
    },
    {
      "cell_type": "code",
      "execution_count": null,
      "metadata": {
        "colab": {
          "base_uri": "https://localhost:8080/",
          "height": 56
        },
        "id": "kvCtozwjy5hT",
        "outputId": "0e562b45-0f85-43b5-a792-88ea7de61335"
      },
      "outputs": [
        {
          "name": "stdout",
          "output_type": "stream",
          "text": [
            "Enter your equation 0= x**3-2*x**2-5*x+6\n"
          ]
        },
        {
          "data": {
            "text/latex": "$\\displaystyle \\left(x - 3\\right) \\left(x - 1\\right) \\left(x + 2\\right)$",
            "text/plain": [
              "(x - 3)*(x - 1)*(x + 2)"
            ]
          },
          "execution_count": 35,
          "metadata": {},
          "output_type": "execute_result"
        }
      ],
      "source": [
        "from sympy import *\n",
        "var('x')\n",
        "za=x**3-2*x**2-5*x+6\n",
        "#eq=input('Enter your equation 0= ')\n",
        "\n",
        "\n",
        "sympy.factor(za)\n"
      ]
    },
    {
      "cell_type": "code",
      "execution_count": null,
      "metadata": {
        "id": "YFawKg782-Nc"
      },
      "outputs": [],
      "source": [
        "from sympy import *\n",
        "var('x y')\n",
        "\n",
        "eq=x**2-1/2*x-3/2\n",
        "sympy.factor(eq)\n",
        "sol=solve(ans,x)\n",
        "#print(\"x = \",sol[0])\n"
      ]
    },
    {
      "cell_type": "markdown",
      "metadata": {
        "id": "7-itkgdKNCk-"
      },
      "source": [
        "#Coverting fractions to decimals"
      ]
    },
    {
      "cell_type": "code",
      "execution_count": null,
      "metadata": {
        "colab": {
          "base_uri": "https://localhost:8080/"
        },
        "id": "BU17zWwvFvfy",
        "outputId": "eb03be5c-1c05-4925-8316-2190af992e8d"
      },
      "outputs": [
        {
          "name": "stdout",
          "output_type": "stream",
          "text": [
            "X is  1\n",
            "x is also 3\n"
          ]
        }
      ],
      "source": [
        "from sympy import *\n",
        "var('x y')\n",
        "\n",
        "#convert fraction to decimal\n",
        "def frac_float(in_string):\n",
        "  if '/' in in_string:\n",
        "    nd=in_string.split('/')\n",
        "    n=float(nd[0])\n",
        "    d=float(nd[1])\n",
        "    ans=n/d\n",
        "    return ans\n",
        "  else:\n",
        "    ans=float(in_string[0])\n",
        "    return ans\n",
        "eq=2*x**2-8*x+8\n",
        "sol=Eq(eq,2)\n",
        "ans=solve(sol,x)\n",
        "#final=frac_float(ans)\n",
        "print('X is ',ans[0])\n",
        "print('x is also',ans[1])"
      ]
    },
    {
      "cell_type": "code",
      "execution_count": null,
      "metadata": {
        "colab": {
          "base_uri": "https://localhost:8080/",
          "height": 38
        },
        "id": "Ie17nrykPVep",
        "outputId": "aa12abc5-4bed-421a-ff18-5104f808f18d"
      },
      "outputs": [
        {
          "data": {
            "text/latex": "$\\displaystyle \\left(x - 3\\right) \\left(x + 2\\right) = 14$",
            "text/plain": [
              "Eq((x - 3)*(x + 2), 14)"
            ]
          },
          "execution_count": 51,
          "metadata": {},
          "output_type": "execute_result"
        }
      ],
      "source": [
        "from sympy import *\n",
        "var('x y')\n",
        "#ss=(y**2+4*x)*(y**2+4*x)\n",
        "ss=x**2-x-6\n",
        "ww=Eq(ss,14)\n",
        "#ans=solve(ww,y)\n",
        "#final=frac_float(ans)\n",
        "#print(final)\n",
        "sympy.factor(ww)\n",
        "#solve(ss,x)"
      ]
    },
    {
      "cell_type": "code",
      "execution_count": null,
      "metadata": {
        "colab": {
          "base_uri": "https://localhost:8080/"
        },
        "id": "6l33_TbiRzWh",
        "outputId": "cff920c6-b7b6-425b-89b7-7eecbbf8bc2b"
      },
      "outputs": [
        {
          "name": "stdout",
          "output_type": "stream",
          "text": [
            "x\ty\n",
            "0 \t 7\n",
            "1 \t 10\n",
            "2 \t 13\n",
            "3 \t 16\n",
            "4 \t 19\n",
            "5 \t 22\n",
            "6 \t 25\n",
            "7 \t 28\n",
            "8 \t 31\n",
            "9 \t 34\n",
            "10 \t 37\n"
          ]
        }
      ],
      "source": [
        "\n",
        "X=0\n",
        "Y=3*X +7\n",
        "print('x\\ty')\n",
        "for x in range(11):\n",
        "    y=3*x+7\n",
        "    print(x,'\\t',y)\n"
      ]
    },
    {
      "cell_type": "code",
      "execution_count": 9,
      "metadata": {
        "colab": {
          "base_uri": "https://localhost:8080/",
          "height": 455
        },
        "id": "KbNUu9G1H1D3",
        "outputId": "46bc926e-5de7-479a-b604-588117ff65af"
      },
      "outputs": [
        {
          "output_type": "display_data",
          "data": {
            "text/plain": [
              "<Figure size 640x480 with 1 Axes>"
            ],
            "image/png": "[encoded data removed]"
          },
          "metadata": {}
        }
      ],
      "source": [
        "import matplotlib.pyplot as plt\n",
        "fig,ax=plt.subplots()\n",
        "import numpy as np\n",
        "from math import *\n",
        "\n",
        "x1=0\n",
        "y1=875\n",
        "x2=1\n",
        "y2=825\n",
        "\n",
        "m=(y2-y1)/(x2-x1)\n",
        "c=m*x1+875\n",
        "\n",
        "xmin=0\n",
        "xmax=20\n",
        "ymin=0\n",
        "ymax=900\n",
        "\n",
        "points=2*(xmax-xmin)\n",
        "x=np.linspace(xmin,xmax,points)\n",
        "\n",
        "plt.axis([xmin,xmax,ymin,ymax])\n",
        "plt.plot([xmin,xmax],[0,0],'k')\n",
        "plt.plot([0,0],[ymin,ymax],'k')\n",
        "\n",
        "#ax.set_xticks(np.arange(xmin,xmax,10))\n",
        "#ax.set_yticks(np.arange(ymin,ymax,10))\n",
        "\n",
        "ax.set_xlabel('X-axis')\n",
        "ax.set_ylabel('Y-axis')\n",
        "ax.grid(True)\n",
        "#c=m*x+875\n",
        "y=m*x+c\n",
        "plt.plot(x,y,'r')\n",
        "\n",
        "#for x in range(-20,20):\n",
        "#    y=8*x**2-12*x+24\n",
        "    #plt.plot([x],[y],'g*')\n",
        "\n",
        "#plt.plot([5],[4],'r+')\n",
        "plt.show()"
      ]
    },
    {
      "cell_type": "code",
      "execution_count": null,
      "metadata": {
        "id": "xGeDysO3O5kN"
      },
      "outputs": [],
      "source": []
    }
  ],
  "metadata": {
    "colab": {
      "collapsed_sections": [
        "AkH_-lb2JZE6",
        "jRo6ocgE7Zfx",
        "V86ejOB-8yti"
      ],
      "provenance": [],
      "authorship_tag": "ABX9TyMJuJ1txVXxN2qoo/fj4iLI",
      "include_colab_link": true
    },
    "kernelspec": {
      "display_name": "Python 3",
      "name": "python3"
    },
    "language_info": {
      "name": "python"
    }
  },
  "nbformat": 4,
  "nbformat_minor": 0
}